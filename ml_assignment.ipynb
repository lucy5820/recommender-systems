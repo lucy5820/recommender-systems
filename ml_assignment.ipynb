{
  "cells": [
    {
      "cell_type": "code",
      "execution_count": 1,
      "metadata": {
        "colab": {
          "base_uri": "https://localhost:8080/"
        },
        "id": "B3NEe4BojNQs",
        "outputId": "9263e207-818a-4e80-eff5-d35b09588897"
      },
      "outputs": [
        {
          "output_type": "stream",
          "name": "stdout",
          "text": [
            "Looking in indexes: https://pypi.org/simple, https://us-python.pkg.dev/colab-wheels/public/simple/\n",
            "Collecting wget\n",
            "  Downloading wget-3.2.zip (10 kB)\n",
            "  Preparing metadata (setup.py) ... \u001b[?25l\u001b[?25hdone\n",
            "Building wheels for collected packages: wget\n",
            "  Building wheel for wget (setup.py) ... \u001b[?25l\u001b[?25hdone\n",
            "  Created wheel for wget: filename=wget-3.2-py3-none-any.whl size=9674 sha256=1a248e419c93b2c4602fd0829c85a11c2b62c077c0ae765fa2813109f8353488\n",
            "  Stored in directory: /root/.cache/pip/wheels/bd/a8/c3/3cf2c14a1837a4e04bd98631724e81f33f462d86a1d895fae0\n",
            "Successfully built wget\n",
            "Installing collected packages: wget\n",
            "Successfully installed wget-3.2\n"
          ]
        }
      ],
      "source": [
        "!pip install wget"
      ]
    },
    {
      "cell_type": "code",
      "execution_count": 2,
      "metadata": {
        "colab": {
          "base_uri": "https://localhost:8080/"
        },
        "id": "CrWhZK_sjJWd",
        "outputId": "af9bb63f-7696-4a36-80b3-1fee722cbe10"
      },
      "outputs": [
        {
          "output_type": "stream",
          "name": "stderr",
          "text": [
            "[nltk_data] Downloading package omw-1.4 to /root/nltk_data...\n",
            "[nltk_data] Downloading package stopwords to /root/nltk_data...\n",
            "[nltk_data]   Unzipping corpora/stopwords.zip.\n",
            "[nltk_data] Downloading package wordnet to /root/nltk_data...\n",
            "[nltk_data] Downloading package punkt to /root/nltk_data...\n",
            "[nltk_data]   Unzipping tokenizers/punkt.zip.\n"
          ]
        },
        {
          "output_type": "execute_result",
          "data": {
            "text/plain": [
              "True"
            ]
          },
          "metadata": {},
          "execution_count": 2
        }
      ],
      "source": [
        "import os\n",
        "import re\n",
        "from pathlib import Path\n",
        "from nltk.tokenize import RegexpTokenizer\n",
        "from collections import Counter\n",
        "import pandas as pd\n",
        "from sklearn.linear_model import LogisticRegression\n",
        "from sklearn.naive_bayes import GaussianNB, BernoulliNB, MultinomialNB\n",
        "from sklearn.model_selection import train_test_split\n",
        "from sklearn.metrics import accuracy_score, confusion_matrix\n",
        "from sklearn.exceptions import ConvergenceWarning\n",
        "import numpy as np\n",
        "from scipy import stats\n",
        "import matplotlib\n",
        "import matplotlib.pyplot as plt\n",
        "%matplotlib inline  \n",
        "import random\n",
        "import wget\n",
        "random.seed()\n",
        "import warnings\n",
        "warnings.filterwarnings(\"ignore\", category=FutureWarning)\n",
        "warnings.filterwarnings(\"ignore\", category=ConvergenceWarning)\n",
        "\n",
        "# Please add necessary imports here\n",
        "import nltk\n",
        "nltk.download('omw-1.4')\n",
        "\n",
        "from nltk import word_tokenize\n",
        "from nltk.stem import *\n",
        "from nltk.corpus import stopwords\n",
        "\n",
        "from string import punctuation\n",
        "\n",
        "nltk.download(\"stopwords\")\n",
        "nltk.download(\"wordnet\")\n",
        "nltk.download('punkt')"
      ]
    },
    {
      "cell_type": "code",
      "execution_count": null,
      "metadata": {
        "id": "ccMNbLzljJWl"
      },
      "outputs": [],
      "source": [
        "filename = wget.download(\"https://github.com/MIE451-2021/course-datasets/raw/main/20_newsgroups.zip\", \"20_newsgroups.zip\")\n",
        "!unzip 20_newsgroups.zip\n",
        "DATA_DIR = \"20_newsgroups\""
      ]
    },
    {
      "cell_type": "markdown",
      "metadata": {
        "id": "ZAOneB4BjJWq"
      },
      "source": [
        "## Functions from lab"
      ]
    },
    {
      "cell_type": "markdown",
      "metadata": {
        "collapsed": false,
        "id": "wrs_aC-oofj_"
      },
      "source": [
        "**PLEASE DO NOT CHANGE FUNCTION/CLASS NAMES**\n",
        "\n",
        "**PLEASE DO NOT CHANGE/OVERWRITE COMPLETED FUNCTIONS**"
      ]
    },
    {
      "cell_type": "code",
      "execution_count": 13,
      "metadata": {
        "id": "isVIWKz5jJWr"
      },
      "outputs": [],
      "source": [
        "def clean_file_text(text):\n",
        "    new_text = re.sub(\"Newsgroups:.*?\\n\", \"\", text)\n",
        "    new_text = re.sub(\"Xref:.*?\\n\", \"\", new_text)\n",
        "    new_text = re.sub(\"Path:.*?\\n\", \"\", new_text)\n",
        "    new_text = re.sub(\"Date:.*?\\n\", \"\", new_text)\n",
        "    new_text = re.sub(\"Followup-To:.*?\\n\", \"\", new_text)\n",
        "    return new_text"
      ]
    },
    {
      "cell_type": "code",
      "execution_count": 14,
      "metadata": {
        "id": "0HHTRr8CjJWv"
      },
      "outputs": [],
      "source": [
        "def corpus_count_words(file_list):\n",
        "    tokenizer = RegexpTokenizer(r'\\w+')\n",
        "    word_counter = Counter()\n",
        "    for file_path in file_list:\n",
        "        with open(file_path, 'r', encoding='utf-8', errors='ignore') as file:\n",
        "            file_data = file.read()\n",
        "            file_data = clean_file_text(file_data)\n",
        "            file_words = tokenizer.tokenize(file_data)\n",
        "            word_counter.update(file_words)\n",
        "    return word_counter"
      ]
    },
    {
      "cell_type": "code",
      "execution_count": 15,
      "metadata": {
        "id": "_VBp_7RBjJW1"
      },
      "outputs": [],
      "source": [
        "def get_topic_name(file_path):\n",
        "    return file_path.parent.name\n",
        "\n",
        "def get_target(topic_name):\n",
        "    topics = ['talk.politics.mideast', 'rec.autos', 'comp.sys.mac.hardware', 'alt.atheism', 'rec.sport.baseball', \n",
        "     'comp.os.ms-windows.misc', 'rec.sport.hockey', 'sci.crypt', 'sci.med', 'talk.politics.misc', \n",
        "     'rec.motorcycles', 'comp.windows.x', 'comp.graphics', 'comp.sys.ibm.pc.hardware', 'sci.electronics',\n",
        "     'talk.politics.guns', 'sci.space', 'soc.religion.christian', 'misc.forsale', 'talk.religion.misc']\n",
        "    return topics.index(topic_name)"
      ]
    },
    {
      "cell_type": "code",
      "execution_count": 16,
      "metadata": {
        "id": "OH81rhWjjJW4"
      },
      "outputs": [],
      "source": [
        "def plot_confusion_matrix(cm):\n",
        "    # plot the confusion matrix\n",
        "    plt.figure(figsize=(10,10))\n",
        "    plt.matshow(cm, fignum=1)\n",
        "    \n",
        "    # add labels for all targets\n",
        "    num_targets = cm.shape[0]\n",
        "    plt.xticks(list(range(num_targets+1)))\n",
        "    plt.yticks(list(range(num_targets+1)))"
      ]
    },
    {
      "cell_type": "markdown",
      "metadata": {
        "collapsed": false,
        "id": "6d0H1MoeofkB"
      },
      "source": [
        "## Q1"
      ]
    },
    {
      "cell_type": "code",
      "source": [
        "def clean_file_text_improved(text):\n",
        "    new_text = re.sub(\"Reply-To:.*?\\n\", \"\", text)\n",
        "\n",
        "\n",
        "    new_text = re.sub(\"Xref:.*?\\n\", \"\", new_text)\n",
        "    new_text = re.sub(\"Date:.*?\\n\", \"\", new_text)\n",
        "    new_text = re.sub(\"Followup-To:.*?\\n\", \"\", new_text)\n",
        "    return new_text"
      ],
      "metadata": {
        "id": "clWFwA2siG_5"
      },
      "execution_count": 17,
      "outputs": []
    },
    {
      "cell_type": "code",
      "source": [
        "def corpus_count_words_stops(file_list):\n",
        "    # set stopwords\n",
        "    stops = set(stopwords.words('english'))\n",
        "\n",
        "    tokenizer = RegexpTokenizer(r'\\w+')\n",
        "    word_counter = Counter()\n",
        "    for file_path in file_list:\n",
        "        with open(file_path, 'r', encoding='utf-8', errors='ignore') as file:\n",
        "            file_data = file.read()\n",
        "            file_data = clean_file_text_improved(file_data)\n",
        "            file_words = tokenizer.tokenize(file_data)\n",
        "\n",
        "            total_words = [word for word in file_words if word.lower() not in stops and word.isalpha()]\n",
        "            word_counter.update(total_words)\n",
        "    return word_counter"
      ],
      "metadata": {
        "id": "LPZKGLVLQWn2"
      },
      "execution_count": 18,
      "outputs": []
    },
    {
      "cell_type": "code",
      "execution_count": 19,
      "metadata": {
        "id": "vn5BiAdrofkB"
      },
      "outputs": [],
      "source": [
        "class MLQ1():\n",
        "    def binary_baseline_data(self, file_list, num_words=1000):\n",
        "        # Calculate word count in corpus\n",
        "        news_cnt = corpus_count_words(file_list)\n",
        "\n",
        "        # Select the most common numWords\n",
        "        word_list = [word for (word, freq) in news_cnt.most_common(num_words)]\n",
        "\n",
        "        # Create a binary encoding of dataset based on the selected features (X)\n",
        "        tokenizer = RegexpTokenizer(r'\\w+')\n",
        "        df_rows = []\n",
        "        for file_path in file_list:\n",
        "            with open(file_path, 'r', encoding='utf-8', errors='ignore') as file:\n",
        "                file_data = file.read()\n",
        "                file_data = clean_file_text(file_data)\n",
        "                file_words = tokenizer.tokenize(file_data)\n",
        "                df_rows.append([1 if word in file_words else 0 for word in word_list])\n",
        "        X = pd.DataFrame(df_rows, index=[str(f) for f in file_list], columns = word_list)\n",
        "\n",
        "        # Create a dataframe of targets (y)\n",
        "        y = [get_target(get_topic_name(file_path)) for file_path in file_list]\n",
        "\n",
        "        return X, y\n",
        "\n",
        "    def binary_improved_data(self, file_list, num_words=1000):\n",
        "        # Put your code here for Q1b\n",
        "        # Make sure you update the variable features and targets below\n",
        "\n",
        "        # set stopwords\n",
        "        stops = set(stopwords.words('english'))\n",
        "\n",
        "        news_cnt = corpus_count_words_stops(file_list)\n",
        "\n",
        "        # Select the most common numWords\n",
        "        word_list = [word for (word, freq) in news_cnt.most_common(num_words)]\n",
        "        \n",
        "\n",
        "        # Create a binary encoding of dataset based on the selected features (X)\n",
        "        tokenizer = RegexpTokenizer(r'\\w+')\n",
        "        df_rows = []\n",
        "        for file_path in file_list:\n",
        "            with open(file_path, 'r', encoding='utf-8', errors='ignore') as file:\n",
        "                file_data = file.read()\n",
        "                file_data = clean_file_text_improved(file_data)\n",
        "\n",
        "                # only tokenized words that are not in the stopwords list\n",
        "                file_words = tokenizer.tokenize(file_data)\n",
        "                file_words = [word for word in file_words if word.lower() not in stops and word.isalpha()]\n",
        "\n",
        "                df_rows.append([1 if word in file_words else 0 for word in word_list])\n",
        "\n",
        "        X = pd.DataFrame(df_rows, index=[str(f) for f in file_list], columns = word_list)\n",
        "\n",
        "        # Create a dataframe of targets (y)\n",
        "        y = [get_target(get_topic_name(file_path)) for file_path in file_list]\n",
        "\n",
        "        # Please remember to put index for your dataframe as the file name\n",
        "        # For example: pd.DataFrame(data, index=[str(f) for f in file_list],columns=[])\n",
        "\n",
        "        # validate return types\n",
        "        assert isinstance(X, pd.DataFrame) and isinstance(y, list), \"return types\"\n",
        "\n",
        "        return X, y\n",
        "\n",
        "    def train_and_predict_baseline(self, file_list):\n",
        "        # get the baseline data\n",
        "        X, y = self.binary_baseline_data(file_list)\n",
        "\n",
        "        # split to train and test set\n",
        "        X_train, X_test, y_train, y_test = train_test_split(X, y, test_size=0.3, random_state=42)\n",
        "\n",
        "        # train a logistic regression classifier\n",
        "        clf = LogisticRegression(C=1.0).fit(X_train, y_train)\n",
        "\n",
        "        # predict on train and test set\n",
        "        y_train_predict = clf.predict(X_train)\n",
        "        y_test_predict = clf.predict(X_test)\n",
        "\n",
        "        # calculate train and test accuracy\n",
        "        train_accuracy = accuracy_score(y_train, y_train_predict)\n",
        "        test_accuracy = accuracy_score(y_test, y_test_predict)\n",
        "\n",
        "        return X, y, train_accuracy, test_accuracy\n",
        "\n",
        "    def train_and_predict_improved(self, file_list):\n",
        "        # get the improved data\n",
        "        X, y = self.binary_improved_data(file_list)\n",
        "\n",
        "        # Write your code here for Q1c:\n",
        "        # You need to split the data and train a logistic regression classifier.\n",
        "        # Then, you need to calculate the variables train_accuracy and test_accuracy for the new classifier\n",
        "\n",
        "        # split to train and test set\n",
        "        X_train, X_test, y_train, y_test = train_test_split(X, y, test_size=0.3, random_state=42)\n",
        "\n",
        "        # train a logistic regression classifier\n",
        "        clf = LogisticRegression(C=1.0).fit(X_train, y_train)\n",
        "\n",
        "        # predict on train and test set\n",
        "        y_train_predict = clf.predict(X_train)\n",
        "        y_test_predict = clf.predict(X_test)\n",
        "\n",
        "        # calculate train and test accuracy\n",
        "        train_accuracy = accuracy_score(y_train, y_train_predict)\n",
        "        test_accuracy = accuracy_score(y_test, y_test_predict)\n",
        "\n",
        "        return X, y, train_accuracy, test_accuracy\n",
        "\n",
        "\n",
        "    @staticmethod\n",
        "    def random_mean_ci(X, y, num_tests):\n",
        "        # train_results is a list of train accuracy results for the differrent random splits of the dataset\n",
        "        train_results = []\n",
        "\n",
        "        # test_results is a list of test accuracy results for the differrent random splits of the dataset\n",
        "        test_results = []\n",
        "\n",
        "        # Write your code here for Q1d\n",
        "        for i in range(num_tests):\n",
        "          state = random.randint(1,1000)\n",
        "          X_train, X_test, y_train, y_test = train_test_split(X, y, test_size=0.3, random_state=state)\n",
        "          clf = LogisticRegression(C=1.0).fit(X_train, y_train)\n",
        "\n",
        "          y_train_predict = clf.predict(X_train)\n",
        "          y_test_predict = clf.predict(X_test)\n",
        "\n",
        "          train_accuracy = accuracy_score(y_train, y_train_predict)\n",
        "          test_accuracy = accuracy_score(y_test, y_test_predict)\n",
        "          \n",
        "          train_results.append(train_accuracy)\n",
        "          test_results.append(test_accuracy)\n",
        "      \n",
        "\n",
        "        # calculate the train mean and the 95% confidence interval for the list of results\n",
        "        train_mean = np.mean(train_results)\n",
        "        train_ci_low, train_ci_high = stats.t.interval(0.95, len(train_results)-1, loc=train_mean, scale=stats.sem(train_results))\n",
        "\n",
        "        # calculate the test mean and the 95% confidence interval for the list of results\n",
        "        test_mean = np.mean(test_results)\n",
        "        test_ci_low, test_ci_high = stats.t.interval(0.95, len(test_results)-1, loc=test_mean, scale=stats.sem(test_results))\n",
        "\n",
        "        # validate return types\n",
        "        assert isinstance(train_mean, float) and isinstance(train_ci_low, float) and isinstance(train_ci_high, float), \"return types\"\n",
        "        assert isinstance(test_mean, float) and isinstance(test_ci_low, float) and isinstance(test_ci_high, float), \"return types\"\n",
        "\n",
        "        return train_mean, train_ci_low, train_ci_high, test_mean, test_ci_low, test_ci_high\n",
        "\n",
        "    @staticmethod\n",
        "    def random_cm(X, y, num_tests):\n",
        "        # cm_list is a list of confusion matrices for the different random splits of the dataset\n",
        "        cm_list = []\n",
        "\n",
        "        # Write your code here for Q1f\n",
        "        for i in range(num_tests):\n",
        "          state = random.randint(1,1000)\n",
        "          X_train, X_test, y_train, y_test = train_test_split(X, y, test_size=0.3, random_state=state)\n",
        "          clf = LogisticRegression(C=1.0).fit(X_train, y_train)\n",
        "\n",
        "          y_train_predict = clf.predict(X_train)\n",
        "          y_test_predict = clf.predict(X_test)\n",
        "\n",
        "          train_accuracy = accuracy_score(y_train, y_train_predict)\n",
        "          test_accuracy = accuracy_score(y_test, y_test_predict)\n",
        "          \n",
        "          cm = confusion_matrix(y_test, y_test_predict)\n",
        "          cm_list.append(cm)\n",
        "\n",
        "        # sum the confusion matrices and return the combined confusion matrix\n",
        "        combined_cm = np.array(cm_list).sum(axis=0)\n",
        "\n",
        "        # validate return type\n",
        "        assert isinstance(combined_cm, np.ndarray), \"return type\"\n",
        "\n",
        "        return combined_cm\n",
        "\n"
      ]
    },
    {
      "cell_type": "markdown",
      "metadata": {
        "collapsed": false,
        "id": "fkxNi2IWofkC"
      },
      "source": [
        "Please do not change this global variable"
      ]
    },
    {
      "cell_type": "code",
      "execution_count": 20,
      "metadata": {
        "id": "QwVZblX1jJW9"
      },
      "outputs": [],
      "source": [
        "all_files = [pth for pth in Path(DATA_DIR).glob(\"**/*\") if pth.is_file() and not pth.name.startswith(\".\")]"
      ]
    },
    {
      "cell_type": "code",
      "execution_count": 21,
      "metadata": {
        "colab": {
          "base_uri": "https://localhost:8080/"
        },
        "id": "hV2I4MIDjJXF",
        "outputId": "0f67ffea-d91d-4089-c0cf-aff9f06ff844"
      },
      "outputs": [
        {
          "output_type": "stream",
          "name": "stdout",
          "text": [
            "Train accuracy: 0.9510609416303494\n",
            "Test accuracy: 0.6843333333333333\n"
          ]
        }
      ],
      "source": [
        "q1 = MLQ1()\n",
        "X, y, train_accuracy, test_accuracy = q1.train_and_predict_baseline(all_files)\n",
        "# report results\n",
        "print(\"Train accuracy: {}\".format(train_accuracy))\n",
        "print(\"Test accuracy: {}\".format(test_accuracy))"
      ]
    },
    {
      "cell_type": "markdown",
      "metadata": {
        "id": "dZSQINnXjJXJ"
      },
      "source": [
        "### Q1 (a)\n"
      ]
    },
    {
      "cell_type": "code",
      "execution_count": 22,
      "metadata": {
        "colab": {
          "base_uri": "https://localhost:8080/"
        },
        "id": "x3JuqQoH1JVU",
        "outputId": "9b20051e-70b7-47c4-a840-74e343802d93"
      },
      "outputs": [
        {
          "output_type": "stream",
          "name": "stdout",
          "text": [
            "total number of files 19997 . Count of uniqus words in corpus 232013\n"
          ]
        }
      ],
      "source": [
        "print(\"total number of files\", len(all_files), \". Count of uniqus words in corpus\", len(corpus_count_words(all_files)))"
      ]
    },
    {
      "cell_type": "markdown",
      "metadata": {
        "id": "0Egt1o3X3JJC"
      },
      "source": [
        "In this baseline, the feature set is a set of 1000 most frequent words chosen from the 20 newsgroup dataset. \n",
        "\n",
        "There are 19997 files and 232013 unique words in the corpus, but the baseline function only chose the most common 1000 words. \n",
        "\n",
        "The hyperparameters used in this base line is C within the logistic regression classifier, which indicates the inverse of regularization strength to prevent overfitting. In this baseline, C was set to 1.0."
      ]
    },
    {
      "cell_type": "markdown",
      "metadata": {
        "id": "3XFlNTqFjJXL"
      },
      "source": [
        "### Q1 (b)\n",
        "\n",
        "Implement *binary_improved_data*"
      ]
    },
    {
      "cell_type": "markdown",
      "metadata": {
        "id": "LXRUw2LDjJXQ"
      },
      "source": [
        "### Q1 (c)\n",
        "\n",
        "Implement *train_and_predict_improved*"
      ]
    },
    {
      "cell_type": "code",
      "execution_count": 23,
      "metadata": {
        "colab": {
          "base_uri": "https://localhost:8080/"
        },
        "id": "G2wliJNvjJXR",
        "outputId": "9e8bbd63-9960-4a20-e145-f5c026df6804"
      },
      "outputs": [
        {
          "output_type": "stream",
          "name": "stdout",
          "text": [
            "Train accuracy: 0.9822819175537615\n",
            "Test accuracy: 0.9468333333333333\n"
          ]
        }
      ],
      "source": [
        "q1 = MLQ1()\n",
        "X, y, train_accuracy, test_accuracy = q1.train_and_predict_improved(all_files)\n",
        "# report results\n",
        "print(\"Train accuracy: {}\".format(train_accuracy))\n",
        "print(\"Test accuracy: {}\".format(test_accuracy))\n"
      ]
    },
    {
      "cell_type": "markdown",
      "metadata": {
        "id": "SST3B968jJXX"
      },
      "source": [
        "Yes, both traing and testing accuracy increased. Training accuracy increased from 0.951 to 0.982 while testing accuracy increased from 0.6843 to 0.9468."
      ]
    },
    {
      "cell_type": "markdown",
      "metadata": {
        "id": "K2EbQVhMjJXY"
      },
      "source": [
        "### Q1 (d)\n",
        "\n",
        "Implement *random_mean_ci*\n"
      ]
    },
    {
      "cell_type": "markdown",
      "metadata": {
        "id": "FrNbYeqqjJXc"
      },
      "source": [
        "### Q1 (e)\n",
        "\n",
        "Use the following code to calculate the mean accuracy and 95% confidence interval over 10 random splits"
      ]
    },
    {
      "cell_type": "code",
      "execution_count": 24,
      "metadata": {
        "id": "oerfu1GljJXd",
        "colab": {
          "base_uri": "https://localhost:8080/"
        },
        "outputId": "1cd2f966-821b-4ad0-d302-76bf8669beba"
      },
      "outputs": [
        {
          "output_type": "stream",
          "name": "stdout",
          "text": [
            "Train mean accuracy over 10 random splits: 0.981596056297778\n",
            "Train confidence interval over 10 random splits: [0.9812418066725672, 0.9819503059229888]\n",
            "Test mean accuracy over 10 random splits: 0.9465833333333334\n",
            "Test confidence interval over 10 random splits: [0.9455650523477571, 0.9476016143189098]\n"
          ]
        }
      ],
      "source": [
        "train_mean10, train_low10, train_high10, test_mean10, test_low10, test_high10 = MLQ1.random_mean_ci(X, y, num_tests = 10)\n",
        "print(\"Train mean accuracy over 10 random splits: {}\".format(train_mean10))\n",
        "print(\"Train confidence interval over 10 random splits: [{}, {}]\".format(train_low10, train_high10))\n",
        "print(\"Test mean accuracy over 10 random splits: {}\".format(test_mean10))\n",
        "print(\"Test confidence interval over 10 random splits: [{}, {}]\".format(test_low10, test_high10))"
      ]
    },
    {
      "cell_type": "markdown",
      "metadata": {
        "id": "qWqqzPkGjJXh"
      },
      "source": [
        "The 95% confidence interval means that we are 95% confident that the population true mean locates in the interval. The results showed that both train and test mean accuracy are located in the interval, which demonstrated the split of each iteration are able to capture the true mean. This is more informative since it proved the model are able to generalize different split of data by doing statistical sampling.\n"
      ]
    },
    {
      "cell_type": "markdown",
      "metadata": {
        "id": "z86lxUvmjJXi"
      },
      "source": [
        "### Q1 (f)\n",
        "\n",
        "Implement *random_cm*\n"
      ]
    },
    {
      "cell_type": "markdown",
      "metadata": {
        "id": "e19w779ejJXs"
      },
      "source": [
        "### Q1 (g)\n",
        "\n",
        "Use the following code to produce a confusion matrix for 10 random splits"
      ]
    },
    {
      "cell_type": "code",
      "execution_count": 25,
      "metadata": {
        "id": "xXGSnr-xjJXt",
        "colab": {
          "base_uri": "https://localhost:8080/",
          "height": 612
        },
        "outputId": "a98e0f43-0a40-429d-b2c1-e11f16f7a536"
      },
      "outputs": [
        {
          "output_type": "display_data",
          "data": {
            "text/plain": [
              "<Figure size 720x720 with 1 Axes>"
            ],
            "image/png": "[encoded data removed]"
          },
          "metadata": {
            "needs_background": "light"
          }
        }
      ],
      "source": [
        "cm10 = MLQ1.random_cm(X, y, num_tests = 10)\n",
        "plot_confusion_matrix(cm10)"
      ]
    },
    {
      "cell_type": "markdown",
      "metadata": {
        "id": "cXgq9z3KjJXw"
      },
      "source": [
        "Yes, class 3 and class 9 are more easily confused with class 19.\n",
        "\n",
        "class 3 and class 19 are related to religion so can be easily misclassified. class 9 is about politics.misc while class 19 is about religion.misc. Sometics politics conclude religion and may lead to a misclassification."
      ]
    },
    {
      "cell_type": "markdown",
      "metadata": {
        "id": "XTFCjNAjjJXx"
      },
      "source": [
        "## Q2"
      ]
    },
    {
      "cell_type": "code",
      "execution_count": 26,
      "metadata": {
        "id": "6OAi_6hSofkF"
      },
      "outputs": [],
      "source": [
        "class MLQ2():\n",
        "    def feature_num(self, X, y):\n",
        "        # result_list is a list of tuples (num_features, train_accuracy, test_accuracy)\n",
        "        # where numFeatures is the number of words used as features\n",
        "        result_list = []\n",
        "\n",
        "        X_train, X_test, y_train, y_test = train_test_split(X, y, test_size=0.3, random_state=42)\n",
        "\n",
        "        for p in [0.1, 0.3, 0.5, 0.75, 0.85, 1.0]:\n",
        "            subset_size = int(p*X.shape[1])\n",
        "            X_train_subset = X_train.iloc[:, 0:subset_size]\n",
        "            X_test_subset = X_test.iloc[:, 0:subset_size]\n",
        "            # Write your code here to calculate train_accuracy and test_accuracy for the current subset of features\n",
        "            # ......\n",
        "\n",
        "            clf = LogisticRegression(C=1.0).fit(X_train_subset, y_train)\n",
        "\n",
        "            y_train_predict = clf.predict(X_train_subset)\n",
        "            y_test_predict = clf.predict(X_test_subset)\n",
        "\n",
        "            train_accuracy = accuracy_score(y_train, y_train_predict)\n",
        "            test_accuracy = accuracy_score(y_test, y_test_predict)\n",
        "\n",
        "\n",
        "            # add to result_list\n",
        "            result_list.append((p, train_accuracy, test_accuracy))\n",
        "\n",
        "        # Make a dataframe of the results\n",
        "        result_df = pd.DataFrame(result_list, columns=[\"num_features\", \"train_accuracy\", \"test_accuracy\"])\n",
        "\n",
        "        # validate return type\n",
        "        assert isinstance(result_df, pd.DataFrame), \"return type\"\n",
        "\n",
        "        return result_df"
      ]
    },
    {
      "cell_type": "markdown",
      "metadata": {
        "id": "dhXfPuIpjJXy"
      },
      "source": [
        "### Q2 (a)\n",
        "\n",
        "Implement *feature_num*"
      ]
    },
    {
      "cell_type": "markdown",
      "metadata": {
        "id": "X7hNvwoljJX6"
      },
      "source": [
        "### Q2 (b)\n",
        "\n",
        "Use the following code to plot the train and test accuracy for the different feature sets sizes"
      ]
    },
    {
      "cell_type": "code",
      "execution_count": 27,
      "metadata": {
        "id": "Ehilq_hyjJX7",
        "colab": {
          "base_uri": "https://localhost:8080/",
          "height": 297
        },
        "outputId": "5cb59438-d393-429f-cc52-6214e4bb6e77"
      },
      "outputs": [
        {
          "output_type": "execute_result",
          "data": {
            "text/plain": [
              "<AxesSubplot:xlabel='num_features'>"
            ]
          },
          "metadata": {},
          "execution_count": 27
        },
        {
          "output_type": "display_data",
          "data": {
            "text/plain": [
              "<Figure size 432x288 with 1 Axes>"
            ],
            "image/png": "[encoded data removed]"
          },
          "metadata": {
            "needs_background": "light"
          }
        }
      ],
      "source": [
        "q2 = MLQ2()\n",
        "feature_num_df = q2.feature_num(X, y)\n",
        "feature_num_df.plot(x=\"num_features\", y=[\"train_accuracy\", \"test_accuracy\"])"
      ]
    },
    {
      "cell_type": "markdown",
      "metadata": {
        "id": "XFk_ess_jJYC"
      },
      "source": [
        "As number of features increased, the overall accuracy of both training set and test set increased."
      ]
    },
    {
      "cell_type": "markdown",
      "metadata": {
        "id": "a0ZftHo6jJYD"
      },
      "source": [
        "## Q3"
      ]
    },
    {
      "cell_type": "code",
      "execution_count": 28,
      "metadata": {
        "id": "8dl6rebgofkG"
      },
      "outputs": [],
      "source": [
        "class MLQ3():\n",
        "    def hyperparameter(self, X, y):\n",
        "        # result_list is a list of tuples (num_features, train_accuracy, test_accuracy)\n",
        "        # where numFeatures is the number of words used as features\n",
        "        result_list = []\n",
        "\n",
        "        X_train, X_test, y_train, y_test = train_test_split(X, y, test_size=0.3, random_state=42)\n",
        "\n",
        "        for param in [0.001, 0.01, 0.1, 1, 10, 100, 1000]:\n",
        "            # Write your code here to calculate train_accuracy and test_accuracy for the current parameter value\n",
        "            # ......\n",
        "            clf = LogisticRegression(C=param).fit(X_train, y_train)\n",
        "\n",
        "            y_train_predict = clf.predict(X_train)\n",
        "            y_test_predict = clf.predict(X_test)\n",
        "\n",
        "            train_accuracy = accuracy_score(y_train, y_train_predict)\n",
        "            test_accuracy = accuracy_score(y_test, y_test_predict)\n",
        "\n",
        "            # add to result_list\n",
        "            result_list.append((param, train_accuracy, test_accuracy))\n",
        "\n",
        "        # Make a dataframe of the results\n",
        "        result_df = pd.DataFrame(result_list, columns=[\"param\", \"train_accuracy\", \"test_accuracy\"])\n",
        "\n",
        "        # validate return type\n",
        "        assert isinstance(result_df, pd.DataFrame), \"return type\"\n",
        "\n",
        "        return result_df"
      ]
    },
    {
      "cell_type": "markdown",
      "metadata": {
        "id": "X0e1QSDsjJYE"
      },
      "source": [
        "### Q3 (a)\n",
        "\n",
        "Implement *hyperparameter*"
      ]
    },
    {
      "cell_type": "markdown",
      "metadata": {
        "id": "Id6-n2ZBjJYM"
      },
      "source": [
        "### Q3 (b)\n",
        "\n",
        "Use the following code to plot the train and test accuracy for the different the parameters"
      ]
    },
    {
      "cell_type": "code",
      "execution_count": 29,
      "metadata": {
        "id": "phBkJ5mvjJYN",
        "colab": {
          "base_uri": "https://localhost:8080/",
          "height": 300
        },
        "outputId": "3036635d-b35c-4447-820b-1352fa984902"
      },
      "outputs": [
        {
          "output_type": "execute_result",
          "data": {
            "text/plain": [
              "<AxesSubplot:xlabel='param'>"
            ]
          },
          "metadata": {},
          "execution_count": 29
        },
        {
          "output_type": "display_data",
          "data": {
            "text/plain": [
              "<Figure size 432x288 with 1 Axes>"
            ],
            "image/png": "[encoded data removed]"
          },
          "metadata": {
            "needs_background": "light"
          }
        }
      ],
      "source": [
        "q3 = MLQ3()\n",
        "param_df = q3.hyperparameter(X, y)\n",
        "param_df.plot(x=\"param\", y=[\"train_accuracy\", \"test_accuracy\"], logx=True)"
      ]
    },
    {
      "cell_type": "markdown",
      "metadata": {
        "id": "ngW4KMVLjJYP"
      },
      "source": [
        "As the value of the hyperparameter (C) increased, the test accuracy first increased to 0.958 then decreased after C reached 0.01, this is because smaller C value specify stronger regularization to prevent the model overfitting. (higher C has lower weight to the complexity penalty and leads to overfitting)"
      ]
    },
    {
      "cell_type": "markdown",
      "metadata": {
        "id": "NPsJTYu_jJYR"
      },
      "source": [
        "## Q4"
      ]
    },
    {
      "cell_type": "code",
      "execution_count": 30,
      "metadata": {
        "id": "sTI7Tc_GofkG"
      },
      "outputs": [],
      "source": [
        "class MLQ4():\n",
        "    def tf_improved_data(self, file_list, num_words = 1000):\n",
        "        # Put your code here\n",
        "        # Make sure you update the variable features and targets below\n",
        "\n",
        "        # set stopwords\n",
        "        stops = set(stopwords.words('english'))\n",
        "\n",
        "        news_cnt = corpus_count_words_stops(file_list)\n",
        "\n",
        "        # Select the most common numWords\n",
        "        word_list = [word for (word, freq) in news_cnt.most_common(num_words)]\n",
        "        \n",
        "\n",
        "        # Create a binary encoding of dataset based on the selected features (X)\n",
        "        tokenizer = RegexpTokenizer(r'\\w+')\n",
        "        df_rows = []\n",
        "        for file_path in file_list:\n",
        "            with open(file_path, 'r', encoding='utf-8', errors='ignore') as file:\n",
        "                file_data = file.read()\n",
        "                file_data = clean_file_text_improved(file_data)\n",
        "\n",
        "                # only tokenized words that are not in the stopwords list\n",
        "                file_words = tokenizer.tokenize(file_data)\n",
        "                file_words = [word for word in file_words if word.lower() not in stops and word.isalpha()]\n",
        "\n",
        "                df_rows.append([file_words.count(word) for word in word_list])\n",
        "\n",
        "        X = pd.DataFrame(df_rows, index=[str(f) for f in file_list], columns = word_list)\n",
        "\n",
        "        # Create a dataframe of targets (y)\n",
        "        y = [get_target(get_topic_name(file_path)) for file_path in file_list]\n",
        "\n",
        "        # Please remember to put index for your dataframe as the file name\n",
        "        # For example: pd.DataFrame(data, index=[str(f) for f in file_list],columns=[])\n",
        "        # validate return types\n",
        "        assert isinstance(X, pd.DataFrame) and isinstance(y, list), \"return types\"\n",
        "\n",
        "        return X, y\n"
      ]
    },
    {
      "cell_type": "markdown",
      "metadata": {
        "id": "aK7nTn82jJYS"
      },
      "source": [
        "### Q4 (a)\n",
        "\n",
        "Implement *tf_improved_data*"
      ]
    },
    {
      "cell_type": "markdown",
      "metadata": {
        "id": "C1Ws8ZgrjJYV"
      },
      "source": [
        "### Q4 (b)\n",
        "\n",
        "Use the following code to calculate the mean accuracy and 95% confidence interval over multiple random splits"
      ]
    },
    {
      "cell_type": "code",
      "execution_count": 31,
      "metadata": {
        "id": "A9c3b_RwjJYW",
        "colab": {
          "base_uri": "https://localhost:8080/"
        },
        "outputId": "64ed2f62-4918-47c5-cdba-fe067bf93807"
      },
      "outputs": [
        {
          "output_type": "stream",
          "name": "stdout",
          "text": [
            "Train mean accuracy over 10 random splits: 0.9815031792526969\n",
            "Train confidence interval over 10 random splits: [0.9805173138034778, 0.982489044701916]\n",
            "Test mean accuracy over 10 random splits: 0.9359\n",
            "Test confidence interval over 10 random splits: [0.9340121898597289, 0.937787810140271]\n"
          ]
        }
      ],
      "source": [
        "q4 = MLQ4()\n",
        "X_tf, y_tf = q4.tf_improved_data(all_files)\n",
        "train_mean10, train_low10, train_high10, test_mean10, test_low10, test_high10 = MLQ1.random_mean_ci(X_tf, y_tf, num_tests = 10)\n",
        "print(\"Train mean accuracy over 10 random splits: {}\".format(train_mean10))\n",
        "print(\"Train confidence interval over 10 random splits: [{}, {}]\".format(train_low10, train_high10))\n",
        "print(\"Test mean accuracy over 10 random splits: {}\".format(test_mean10))\n",
        "print(\"Test confidence interval over 10 random splits: [{}, {}]\".format(test_low10, test_high10))"
      ]
    },
    {
      "cell_type": "markdown",
      "metadata": {
        "id": "KKgIMSPRjJYc"
      },
      "source": [
        "The results showed that the binary encoding performed better than term frequency encoding. Both train and test mean accuracy of binary are higher than term frequency encoding. \n",
        "\n",
        "This may because term frequency would treat rare and frequent words equally. It may consider a high frequent words with less relevance with higher weights in term frequency encoding but less weights on true relevant words."
      ]
    },
    {
      "cell_type": "markdown",
      "metadata": {
        "id": "zAfgSoqjjJYd"
      },
      "source": [
        "## Q5"
      ]
    },
    {
      "cell_type": "code",
      "execution_count": 32,
      "metadata": {
        "id": "0-z71UjpofkH"
      },
      "outputs": [],
      "source": [
        "class MLQ5():\n",
        "    def nb_random_mean_ci(self, X, y, num_tests):\n",
        "        # train_results is a list of train accuracy results for the differrent random splits of the dataset\n",
        "        train_results = []\n",
        "\n",
        "        # test_results is a list of test accuracy results for the differrent random splits of the dataset\n",
        "        test_results = []\n",
        "\n",
        "        # Write your code here\n",
        "        for i in range(num_tests):\n",
        "          state = random.randint(1,1000)\n",
        "          X_train, X_test, y_train, y_test = train_test_split(X, y, test_size=0.3, random_state=state)\n",
        "\n",
        "          # naive Bayes algorithm for multinomially distributed data - multinominal NB\n",
        "          clf = MultinomialNB().fit(X_train, y_train)\n",
        "\n",
        "          y_train_predict = clf.predict(X_train)\n",
        "          y_test_predict = clf.predict(X_test)\n",
        "\n",
        "          train_accuracy = accuracy_score(y_train, y_train_predict)\n",
        "          test_accuracy = accuracy_score(y_test, y_test_predict)\n",
        "          \n",
        "          train_results.append(train_accuracy)\n",
        "          test_results.append(test_accuracy)\n",
        "        \n",
        "\n",
        "        # calculate the train mean and the 95% confidence interval for the list of results\n",
        "        train_mean = np.mean(train_results)\n",
        "        train_ci_low, train_ci_high = stats.t.interval(0.95, len(train_results)-1, loc=train_mean, scale=stats.sem(train_results))\n",
        "\n",
        "        # calculate the test mean and the 95% confidence interval for the list of results\n",
        "        test_mean = np.mean(test_results)\n",
        "        test_ci_low, test_ci_high = stats.t.interval(0.95, len(test_results)-1, loc=test_mean, scale=stats.sem(test_results))\n",
        "\n",
        "        # validate return types\n",
        "        assert isinstance(train_mean, float) and isinstance(train_ci_low, float) and isinstance(train_ci_high, float), \"return types\"\n",
        "        assert isinstance(test_mean, float) and isinstance(test_ci_low, float) and isinstance(test_ci_high, float), \"return types\"\n",
        "\n",
        "        return train_mean, train_ci_low, train_ci_high, test_mean, test_ci_low, test_ci_high\n"
      ]
    },
    {
      "cell_type": "markdown",
      "metadata": {
        "id": "2tV_h9kGjJYg"
      },
      "source": [
        "### Q5 (a)\n",
        "\n",
        "Implement *nb_random_mean_ci*\n"
      ]
    },
    {
      "cell_type": "markdown",
      "metadata": {
        "id": "E9-OzAIUjJYj"
      },
      "source": [
        "### Q5 (b)\n",
        "\n",
        "Use the following code to calculate the mean accuracy and 95% confidence interval over multiple random splits"
      ]
    },
    {
      "cell_type": "code",
      "execution_count": 33,
      "metadata": {
        "id": "l9Me9H6HjJYk",
        "colab": {
          "base_uri": "https://localhost:8080/"
        },
        "outputId": "88a6a8ec-054e-4536-ebbe-dee0b6233022"
      },
      "outputs": [
        {
          "output_type": "stream",
          "name": "stdout",
          "text": [
            "Train mean accuracy over 10 random splits: 0.9312781310280774\n",
            "Train confidence interval over 10 random splits: [0.9302264589750233, 0.9323298030811316]\n",
            "Test mean accuracy over 10 random splits: 0.9098499999999999\n",
            "Test confidence interval over 10 random splits: [0.9069494020144167, 0.9127505979855832]\n"
          ]
        }
      ],
      "source": [
        "q5 = MLQ5()\n",
        "train_mean10, train_low10, train_high10, test_mean10, test_low10, test_high10 = q5.nb_random_mean_ci(X, y, num_tests = 10)\n",
        "print(\"Train mean accuracy over 10 random splits: {}\".format(train_mean10))\n",
        "print(\"Train confidence interval over 10 random splits: [{}, {}]\".format(train_low10, train_high10))\n",
        "print(\"Test mean accuracy over 10 random splits: {}\".format(test_mean10))\n",
        "print(\"Test confidence interval over 10 random splits: [{}, {}]\".format(test_low10, test_high10))"
      ]
    },
    {
      "cell_type": "markdown",
      "metadata": {
        "id": "P99mWvAbjJYp"
      },
      "source": [
        "The result showed the logistics regression performed better than naive bayes classifier. This may because logistics regression is a discriminative model while naive bayes is a generative model. Also we have a large amount of data that allowed logistics model performed well."
      ]
    },
    {
      "cell_type": "markdown",
      "metadata": {
        "id": "4CPzZDj-jJYq"
      },
      "source": [
        "## Q6"
      ]
    },
    {
      "cell_type": "code",
      "execution_count": 34,
      "metadata": {
        "id": "sdoCdzQqofkI"
      },
      "outputs": [],
      "source": [
        "class MLQ6():\n",
        "    def binary_med_data(self, file_list, num_words = 1000):\n",
        "        # Put your code here\n",
        "        # Make sure you update the variable features and targets below\n",
        "\n",
        "\n",
        "        # index of sci-med = 8\n",
        "        # set stopwords\n",
        "        stops = set(stopwords.words('english'))\n",
        "\n",
        "        news_cnt = corpus_count_words_stops(file_list)\n",
        "\n",
        "        # Select the most common numWords\n",
        "        word_list = [word for (word, freq) in news_cnt.most_common(num_words)]\n",
        "        \n",
        "\n",
        "        # Create a binary encoding of dataset based on the selected features (X)\n",
        "        tokenizer = RegexpTokenizer(r'\\w+')\n",
        "        df_rows = []\n",
        "        for file_path in file_list:\n",
        "            with open(file_path, 'r', encoding='utf-8', errors='ignore') as file:\n",
        "                file_data = file.read()\n",
        "                file_data = clean_file_text_improved(file_data)\n",
        "\n",
        "                # only tokenized words that are not in the stopwords list\n",
        "                file_words = tokenizer.tokenize(file_data)\n",
        "                file_words = [word for word in file_words if word.lower() not in stops and word.isalpha()]\n",
        "\n",
        "                df_rows.append([1 if word in file_words else 0 for word in word_list])\n",
        "\n",
        "        X = pd.DataFrame(df_rows, index=[str(f) for f in file_list], columns = word_list)\n",
        "\n",
        "        # Create a dataframe of targets (y)\n",
        "        y = [1 if get_target(get_topic_name(file_path)) == 8 else 0 for file_path in file_list ]\n",
        "\n",
        "        # Please remember to put index for your dataframe as the file name\n",
        "        # For example: pd.DataFrame(data, index=[str(f) for f in file_list],columns=[])\n",
        "\n",
        "        # validate return types\n",
        "        assert isinstance(X, pd.DataFrame) and isinstance(y, list), \"return types\"\n",
        "\n",
        "        return X, y"
      ]
    },
    {
      "cell_type": "markdown",
      "metadata": {
        "id": "tWL6L_OUjJYu"
      },
      "source": [
        "### Q6 (a)\n",
        "\n",
        "Implement *binary_med_data*\n"
      ]
    },
    {
      "cell_type": "markdown",
      "metadata": {
        "id": "7Z3uKy8WjJYx"
      },
      "source": [
        "### Q6 (b)\n",
        "\n",
        "Use the following code to calculate the mean accuracy and 95% confidence interval over multiple random splits"
      ]
    },
    {
      "cell_type": "code",
      "execution_count": 35,
      "metadata": {
        "id": "D3Dfy0uIjJYy",
        "colab": {
          "base_uri": "https://localhost:8080/"
        },
        "outputId": "a1cad521-6d8a-46e6-813f-669acbf1493a"
      },
      "outputs": [
        {
          "output_type": "stream",
          "name": "stdout",
          "text": [
            "Train mean accuracy over 10 random splits: 0.9997428020290062\n",
            "Train confidence interval over 10 random splits: [0.9996520145980629, 0.9998335894599496]\n",
            "Test mean accuracy over 10 random splits: 0.9990166666666667\n",
            "Test confidence interval over 10 random splits: [0.9987818856480544, 0.999251447685279]\n"
          ]
        }
      ],
      "source": [
        "q6 = MLQ6()\n",
        "X, y = q6.binary_med_data(all_files)\n",
        "train_mean10, train_low10, train_high10, test_mean10, test_low10, test_high10 = MLQ1.random_mean_ci(X, y, num_tests = 10)\n",
        "print(\"Train mean accuracy over 10 random splits: {}\".format(train_mean10))\n",
        "print(\"Train confidence interval over 10 random splits: [{}, {}]\".format(train_low10, train_high10))\n",
        "print(\"Test mean accuracy over 10 random splits: {}\".format(test_mean10))\n",
        "print(\"Test confidence interval over 10 random splits: [{}, {}]\".format(test_low10, test_high10))"
      ]
    },
    {
      "cell_type": "markdown",
      "metadata": {
        "id": "EueLolt1jJY0"
      },
      "source": [
        "The 95% confidence interval means that we are 95% confident that the population true mean locates in the interval. The results showed that both train and test mean accuracy are located in the interval, which demonstrated the split of each iteration are able to capture the true mean. This is more informative since it proved the model are able to generalize different split of data by doing statistical sampling.\n",
        "\n",
        "Compared to Mulitclass logistic regression, binary logistic regression has a higher accuracy on both training and testing."
      ]
    },
    {
      "cell_type": "markdown",
      "metadata": {
        "id": "QXGeOS9VpJYS"
      },
      "source": [
        "# Q7"
      ]
    },
    {
      "cell_type": "markdown",
      "metadata": {
        "id": "9FW1IokMpLb9"
      },
      "source": [
        "## Q7(a)\n",
        "use the following code cell to implement your feature encoding"
      ]
    },
    {
      "cell_type": "code",
      "execution_count": 74,
      "metadata": {
        "id": "mIT_KYwmpKbW"
      },
      "outputs": [],
      "source": [
        "def data_q7(file_list, num_words = 1000):\n",
        "  # set stopwords\n",
        "  stops = set(stopwords.words('english'))\n",
        "\n",
        "  news_cnt = corpus_count_words_stops(file_list)\n",
        "\n",
        "  # Select the most common numWords\n",
        "  word_list = [word for (word, freq) in news_cnt.most_common(num_words)]\n",
        "  \n",
        "\n",
        "  # Create a binary encoding of dataset based on the selected features (X)\n",
        "  tokenizer = RegexpTokenizer(r'\\w+')\n",
        "  df_rows = []\n",
        "  for file_path in file_list:\n",
        "      with open(file_path, 'r', encoding='utf-8', errors='ignore') as file:\n",
        "          file_data = file.read()\n",
        "          file_data = clean_file_text_improved(file_data)\n",
        "\n",
        "          # only tokenized words that are not in the stopwords list\n",
        "          file_words = tokenizer.tokenize(file_data)\n",
        "          file_words = [word for word in file_words if word.lower() not in stops and word.isalpha()]\n",
        "\n",
        "          df_rows.append([1 if word in file_words else 0 for word in word_list])\n",
        "\n",
        "  X = pd.DataFrame(df_rows, index=[str(f) for f in file_list], columns = word_list)\n",
        "\n",
        "  # Create a dataframe of targets (y)\n",
        "  y = [get_target(get_topic_name(file_path)) for file_path in file_list]\n",
        "\n",
        "  # Please remember to put index for your dataframe as the file name\n",
        "  # For example: pd.DataFrame(data, index=[str(f) for f in file_list],columns=[])\n",
        "\n",
        "  # validate return types\n",
        "  assert isinstance(X, pd.DataFrame) and isinstance(y, list), \"return types\"\n",
        "\n",
        "  return X, y"
      ]
    },
    {
      "cell_type": "markdown",
      "metadata": {
        "id": "igUVLrzppRGT"
      },
      "source": [
        "## Q7(b)\n",
        "Use the following code cell to implement your model"
      ]
    },
    {
      "cell_type": "code",
      "execution_count": 75,
      "metadata": {
        "id": "VdSJlJgrpXPh"
      },
      "outputs": [],
      "source": [
        "def build_model_q7():\n",
        "  #write your code here, define your model\n",
        "  \n",
        "  MODELQ7=LogisticRegression(C=0.01)\n",
        "  return MODELQ7"
      ]
    },
    {
      "cell_type": "markdown",
      "metadata": {
        "id": "bUAvw4aUpTJm"
      },
      "source": [
        "Code for evaluating p at k"
      ]
    },
    {
      "cell_type": "code",
      "execution_count": 76,
      "metadata": {
        "id": "vliVevlZpaqe"
      },
      "outputs": [],
      "source": [
        "def calculate_average_precision_at_k(MODELQ7, all_files, training_files, testing_files,k=None):\n",
        "  \n",
        "  training_files = [str(f) for f in open(training_files,mode='r').read().splitlines()]\n",
        "  testing_files = [str(f) for f in open(testing_files,mode='r').read().splitlines()]\n",
        "  if k is None:\n",
        "    k=len(testing_files)\n",
        "\n",
        "  X, y = data_q7(all_files) \n",
        "  X['gt'] = y\n",
        "  training = X.loc[training_files]\n",
        "  X_train = training.loc[:,training.columns!='gt']\n",
        "  y_train = training['gt'].values\n",
        "\n",
        "  testing = X.loc[testing_files]\n",
        "  X_test = testing.loc[:,testing.columns!='gt']\n",
        "  y_test = testing['gt'].values\n",
        "\n",
        "  MODELQ7.fit(X_train,y_train)\n",
        "  y_pred = MODELQ7.predict(X_test)\n",
        "  y_pred_prob = MODELQ7.predict_proba(X_test)\n",
        "  confidences = np.max(y_pred_prob,axis=1)\n",
        "  \n",
        "  p_at_k = []\n",
        "  rel_at_k = []\n",
        "  confidence_order = np.argsort(confidences)\n",
        "  for i in range(1,k+1):\n",
        "    top_confidence = confidence_order[-i:]\n",
        "    pred_top_i = y_pred[top_confidence]\n",
        "    gt_top_i = np.array(y_test)[top_confidence]\n",
        "    p_at_i = np.sum(pred_top_i == gt_top_i)/i\n",
        "    rel_at_i = (pred_top_i[0] == gt_top_i[0])\n",
        "    p_at_k.append(p_at_i)\n",
        "    rel_at_k.append(rel_at_i)\n",
        "  print('average precision at {} is {}'.format(k,np.dot(p_at_k,rel_at_k)/k))\n",
        "  return np.dot(p_at_k,rel_at_k)/k"
      ]
    },
    {
      "cell_type": "code",
      "execution_count": 77,
      "metadata": {
        "id": "RQ3-RnnrpeSn",
        "colab": {
          "base_uri": "https://localhost:8080/"
        },
        "outputId": "b6353621-caf8-4b06-e443-7608b1f2f06a"
      },
      "outputs": [
        {
          "output_type": "stream",
          "name": "stdout",
          "text": [
            "average precision at 4000 is 0.9299237588844036\n"
          ]
        }
      ],
      "source": [
        "# Example usage:\n",
        "######This line of code must be able to run on Google Colab in under 15 minutes.#####\n",
        "######Code that runs longer than 15 minutes on the autograder will receive 0 marks for Q7#####\n",
        "m = calculate_average_precision_at_k(build_model_q7(), all_files, 'training_files_Q7.txt', 'testing_files_Q7.txt')"
      ]
    },
    {
      "cell_type": "markdown",
      "metadata": {
        "id": "JLIjqlH6pgKk"
      },
      "source": [
        "# Q7(c)"
      ]
    },
    {
      "cell_type": "markdown",
      "metadata": {
        "id": "cvHHuoXkpjKM"
      },
      "source": [
        "The chosen feature set is a set of 1000 most frequent words.\n",
        "\n",
        "Feature encoding: binary encoding\n",
        "\n",
        "Machine Learning Model: logistic regression classifier with C = 0.01\n",
        "\n",
        "Average precision: 0.9299\n",
        "\n",
        "Compared to feature set with 500 words, the set with 1000 frequent words has a higher average precision score. (0.9287 vs. 0.9299). Then average precision score is getting worse as the size of the feature set is increasing. This may because of overfitting due to too many features.\n",
        "\n",
        "By comparing the previous analyses and adjustments, the test accuracy of binary encoding was generally higher than term frequency encoding. Hence we chose binary encoding in our model.\n",
        "\n",
        "Furthermore, by comparing the results of logistic regression and Naive Bayes classifier, the performance of logistics regression classifier was better. Besides, through the plot shown in Q3, the test accuracy was highest when hyperparameter C reached 0.01. Therefore, we use logistic regression classifier with hyperparameter C=0.01 as our machine learning model.\n",
        "\n"
      ]
    }
  ],
  "metadata": {
    "colab": {
      "provenance": []
    },
    "kernelspec": {
      "display_name": "Python 3",
      "language": "python",
      "name": "python3"
    },
    "language_info": {
      "codemirror_mode": {
        "name": "ipython",
        "version": 3
      },
      "file_extension": ".py",
      "mimetype": "text/x-python",
      "name": "python",
      "nbconvert_exporter": "python",
      "pygments_lexer": "ipython3",
      "version": "3.7.3"
    }
  },
  "nbformat": 4,
  "nbformat_minor": 0
}